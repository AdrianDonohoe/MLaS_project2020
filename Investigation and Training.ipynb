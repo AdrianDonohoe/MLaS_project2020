{
 "cells": [
  {
   "cell_type": "markdown",
   "metadata": {},
   "source": [
    "# Wind Power Investigation and Modelling\n",
    "\n",
    "***\n",
    "\n",
    "This notebook investigates the dataset and models the data. Once a suitable model is chosen, a flask web application will be used for predictions."
   ]
  },
  {
   "cell_type": "code",
   "execution_count": 49,
   "metadata": {},
   "outputs": [],
   "source": [
    "# Imports and options\n",
    "import pandas as pd\n",
    "import seaborn as sns\n",
    "pd.set_option('precision', 5)"
   ]
  },
  {
   "cell_type": "code",
   "execution_count": 50,
   "metadata": {},
   "outputs": [
    {
     "data": {
      "text/html": [
       "<div>\n",
       "<style scoped>\n",
       "    .dataframe tbody tr th:only-of-type {\n",
       "        vertical-align: middle;\n",
       "    }\n",
       "\n",
       "    .dataframe tbody tr th {\n",
       "        vertical-align: top;\n",
       "    }\n",
       "\n",
       "    .dataframe thead th {\n",
       "        text-align: right;\n",
       "    }\n",
       "</style>\n",
       "<table border=\"1\" class=\"dataframe\">\n",
       "  <thead>\n",
       "    <tr style=\"text-align: right;\">\n",
       "      <th></th>\n",
       "      <th>speed</th>\n",
       "      <th>power</th>\n",
       "    </tr>\n",
       "  </thead>\n",
       "  <tbody>\n",
       "    <tr>\n",
       "      <th>0</th>\n",
       "      <td>0.000</td>\n",
       "      <td>0.0</td>\n",
       "    </tr>\n",
       "    <tr>\n",
       "      <th>1</th>\n",
       "      <td>0.125</td>\n",
       "      <td>0.0</td>\n",
       "    </tr>\n",
       "    <tr>\n",
       "      <th>2</th>\n",
       "      <td>0.150</td>\n",
       "      <td>0.0</td>\n",
       "    </tr>\n",
       "    <tr>\n",
       "      <th>3</th>\n",
       "      <td>0.225</td>\n",
       "      <td>0.0</td>\n",
       "    </tr>\n",
       "    <tr>\n",
       "      <th>4</th>\n",
       "      <td>0.275</td>\n",
       "      <td>0.0</td>\n",
       "    </tr>\n",
       "    <tr>\n",
       "      <th>...</th>\n",
       "      <td>...</td>\n",
       "      <td>...</td>\n",
       "    </tr>\n",
       "    <tr>\n",
       "      <th>495</th>\n",
       "      <td>24.775</td>\n",
       "      <td>0.0</td>\n",
       "    </tr>\n",
       "    <tr>\n",
       "      <th>496</th>\n",
       "      <td>24.850</td>\n",
       "      <td>0.0</td>\n",
       "    </tr>\n",
       "    <tr>\n",
       "      <th>497</th>\n",
       "      <td>24.875</td>\n",
       "      <td>0.0</td>\n",
       "    </tr>\n",
       "    <tr>\n",
       "      <th>498</th>\n",
       "      <td>24.950</td>\n",
       "      <td>0.0</td>\n",
       "    </tr>\n",
       "    <tr>\n",
       "      <th>499</th>\n",
       "      <td>25.000</td>\n",
       "      <td>0.0</td>\n",
       "    </tr>\n",
       "  </tbody>\n",
       "</table>\n",
       "<p>500 rows × 2 columns</p>\n",
       "</div>"
      ],
      "text/plain": [
       "      speed  power\n",
       "0     0.000    0.0\n",
       "1     0.125    0.0\n",
       "2     0.150    0.0\n",
       "3     0.225    0.0\n",
       "4     0.275    0.0\n",
       "..      ...    ...\n",
       "495  24.775    0.0\n",
       "496  24.850    0.0\n",
       "497  24.875    0.0\n",
       "498  24.950    0.0\n",
       "499  25.000    0.0\n",
       "\n",
       "[500 rows x 2 columns]"
      ]
     },
     "execution_count": 50,
     "metadata": {},
     "output_type": "execute_result"
    }
   ],
   "source": [
    "#Load the dataset\n",
    "wind = pd.read_csv('powerproduction.txt')\n",
    "wind"
   ]
  },
  {
   "cell_type": "markdown",
   "metadata": {},
   "source": [
    "### Some basic properties of the dataset"
   ]
  },
  {
   "cell_type": "code",
   "execution_count": 3,
   "metadata": {},
   "outputs": [
    {
     "data": {
      "text/plain": [
       "Index(['speed', 'power'], dtype='object')"
      ]
     },
     "execution_count": 3,
     "metadata": {},
     "output_type": "execute_result"
    }
   ],
   "source": [
    "wind.columns"
   ]
  },
  {
   "cell_type": "code",
   "execution_count": 4,
   "metadata": {},
   "outputs": [
    {
     "data": {
      "text/plain": [
       "(500, 2)"
      ]
     },
     "execution_count": 4,
     "metadata": {},
     "output_type": "execute_result"
    }
   ],
   "source": [
    "wind.shape"
   ]
  },
  {
   "cell_type": "code",
   "execution_count": 5,
   "metadata": {},
   "outputs": [
    {
     "data": {
      "text/plain": [
       "speed    0\n",
       "power    0\n",
       "dtype: int64"
      ]
     },
     "execution_count": 5,
     "metadata": {},
     "output_type": "execute_result"
    }
   ],
   "source": [
    "wind.isna().sum()"
   ]
  },
  {
   "cell_type": "code",
   "execution_count": 6,
   "metadata": {},
   "outputs": [
    {
     "data": {
      "text/plain": [
       "speed    0\n",
       "power    0\n",
       "dtype: int64"
      ]
     },
     "execution_count": 6,
     "metadata": {},
     "output_type": "execute_result"
    }
   ],
   "source": [
    "wind.isnull().sum()"
   ]
  },
  {
   "cell_type": "code",
   "execution_count": 7,
   "metadata": {},
   "outputs": [
    {
     "data": {
      "text/html": [
       "<div>\n",
       "<style scoped>\n",
       "    .dataframe tbody tr th:only-of-type {\n",
       "        vertical-align: middle;\n",
       "    }\n",
       "\n",
       "    .dataframe tbody tr th {\n",
       "        vertical-align: top;\n",
       "    }\n",
       "\n",
       "    .dataframe thead th {\n",
       "        text-align: right;\n",
       "    }\n",
       "</style>\n",
       "<table border=\"1\" class=\"dataframe\">\n",
       "  <thead>\n",
       "    <tr style=\"text-align: right;\">\n",
       "      <th></th>\n",
       "      <th>speed</th>\n",
       "      <th>power</th>\n",
       "    </tr>\n",
       "  </thead>\n",
       "  <tbody>\n",
       "    <tr>\n",
       "      <th>count</th>\n",
       "      <td>500.00000</td>\n",
       "      <td>500.00000</td>\n",
       "    </tr>\n",
       "    <tr>\n",
       "      <th>mean</th>\n",
       "      <td>12.59040</td>\n",
       "      <td>48.01458</td>\n",
       "    </tr>\n",
       "    <tr>\n",
       "      <th>std</th>\n",
       "      <td>7.22499</td>\n",
       "      <td>41.61457</td>\n",
       "    </tr>\n",
       "    <tr>\n",
       "      <th>min</th>\n",
       "      <td>0.00000</td>\n",
       "      <td>0.00000</td>\n",
       "    </tr>\n",
       "    <tr>\n",
       "      <th>25%</th>\n",
       "      <td>6.32475</td>\n",
       "      <td>5.28800</td>\n",
       "    </tr>\n",
       "    <tr>\n",
       "      <th>50%</th>\n",
       "      <td>12.55050</td>\n",
       "      <td>41.64550</td>\n",
       "    </tr>\n",
       "    <tr>\n",
       "      <th>75%</th>\n",
       "      <td>18.77525</td>\n",
       "      <td>93.53700</td>\n",
       "    </tr>\n",
       "    <tr>\n",
       "      <th>max</th>\n",
       "      <td>25.00000</td>\n",
       "      <td>113.55600</td>\n",
       "    </tr>\n",
       "  </tbody>\n",
       "</table>\n",
       "</div>"
      ],
      "text/plain": [
       "           speed      power\n",
       "count  500.00000  500.00000\n",
       "mean    12.59040   48.01458\n",
       "std      7.22499   41.61457\n",
       "min      0.00000    0.00000\n",
       "25%      6.32475    5.28800\n",
       "50%     12.55050   41.64550\n",
       "75%     18.77525   93.53700\n",
       "max     25.00000  113.55600"
      ]
     },
     "execution_count": 7,
     "metadata": {},
     "output_type": "execute_result"
    }
   ],
   "source": [
    "wind.describe()"
   ]
  },
  {
   "cell_type": "code",
   "execution_count": 8,
   "metadata": {},
   "outputs": [
    {
     "name": "stdout",
     "output_type": "stream",
     "text": [
      "<class 'pandas.core.frame.DataFrame'>\n",
      "RangeIndex: 500 entries, 0 to 499\n",
      "Data columns (total 2 columns):\n",
      " #   Column  Non-Null Count  Dtype  \n",
      "---  ------  --------------  -----  \n",
      " 0   speed   500 non-null    float64\n",
      " 1   power   500 non-null    float64\n",
      "dtypes: float64(2)\n",
      "memory usage: 7.9 KB\n"
     ]
    }
   ],
   "source": [
    "wind.info()"
   ]
  },
  {
   "cell_type": "code",
   "execution_count": 51,
   "metadata": {},
   "outputs": [
    {
     "data": {
      "image/png": "[encoded data removed]",
      "text/plain": [
       "<Figure size 360x360 with 6 Axes>"
      ]
     },
     "metadata": {
      "needs_background": "light"
     },
     "output_type": "display_data"
    }
   ],
   "source": [
    "#Pair plot of the data using seaborn. We can see how the data is distributed.\n",
    "sns.pairplot(wind);"
   ]
  },
  {
   "cell_type": "markdown",
   "metadata": {},
   "source": [
    "Seems to be some outliers here. I think its reasonable to assume that if the turbine was functioning porperly, there would be power output. So I will assume that these zero values for power, were for times when the turbine was offline due to maintenance or was malfunctioning."
   ]
  },
  {
   "cell_type": "code",
   "execution_count": 52,
   "metadata": {},
   "outputs": [],
   "source": [
    "# Removing the zero power outliers\n",
    "wind = wind[wind['power'] != 0.000]"
   ]
  },
  {
   "cell_type": "code",
   "execution_count": 11,
   "metadata": {},
   "outputs": [
    {
     "data": {
      "text/html": [
       "<div>\n",
       "<style scoped>\n",
       "    .dataframe tbody tr th:only-of-type {\n",
       "        vertical-align: middle;\n",
       "    }\n",
       "\n",
       "    .dataframe tbody tr th {\n",
       "        vertical-align: top;\n",
       "    }\n",
       "\n",
       "    .dataframe thead th {\n",
       "        text-align: right;\n",
       "    }\n",
       "</style>\n",
       "<table border=\"1\" class=\"dataframe\">\n",
       "  <thead>\n",
       "    <tr style=\"text-align: right;\">\n",
       "      <th></th>\n",
       "      <th>speed</th>\n",
       "      <th>power</th>\n",
       "    </tr>\n",
       "  </thead>\n",
       "  <tbody>\n",
       "    <tr>\n",
       "      <th>count</th>\n",
       "      <td>451.00000</td>\n",
       "      <td>451.00000</td>\n",
       "    </tr>\n",
       "    <tr>\n",
       "      <th>mean</th>\n",
       "      <td>13.00430</td>\n",
       "      <td>53.23125</td>\n",
       "    </tr>\n",
       "    <tr>\n",
       "      <th>std</th>\n",
       "      <td>6.83598</td>\n",
       "      <td>40.52205</td>\n",
       "    </tr>\n",
       "    <tr>\n",
       "      <th>min</th>\n",
       "      <td>0.32500</td>\n",
       "      <td>0.06700</td>\n",
       "    </tr>\n",
       "    <tr>\n",
       "      <th>25%</th>\n",
       "      <td>7.34450</td>\n",
       "      <td>8.54350</td>\n",
       "    </tr>\n",
       "    <tr>\n",
       "      <th>50%</th>\n",
       "      <td>13.03800</td>\n",
       "      <td>58.16800</td>\n",
       "    </tr>\n",
       "    <tr>\n",
       "      <th>75%</th>\n",
       "      <td>18.78150</td>\n",
       "      <td>94.72550</td>\n",
       "    </tr>\n",
       "    <tr>\n",
       "      <th>max</th>\n",
       "      <td>24.39900</td>\n",
       "      <td>113.55600</td>\n",
       "    </tr>\n",
       "  </tbody>\n",
       "</table>\n",
       "</div>"
      ],
      "text/plain": [
       "           speed      power\n",
       "count  451.00000  451.00000\n",
       "mean    13.00430   53.23125\n",
       "std      6.83598   40.52205\n",
       "min      0.32500    0.06700\n",
       "25%      7.34450    8.54350\n",
       "50%     13.03800   58.16800\n",
       "75%     18.78150   94.72550\n",
       "max     24.39900  113.55600"
      ]
     },
     "execution_count": 11,
     "metadata": {},
     "output_type": "execute_result"
    }
   ],
   "source": [
    "wind.describe()"
   ]
  },
  {
   "cell_type": "markdown",
   "metadata": {},
   "source": [
    "Plotting again to make sure data is cleaner now."
   ]
  },
  {
   "cell_type": "code",
   "execution_count": 53,
   "metadata": {},
   "outputs": [
    {
     "data": {
      "image/png": "[encoded data removed]",
      "text/plain": [
       "<Figure size 360x360 with 6 Axes>"
      ]
     },
     "metadata": {
      "needs_background": "light"
     },
     "output_type": "display_data"
    }
   ],
   "source": [
    "sns.pairplot(wind);"
   ]
  },
  {
   "cell_type": "markdown",
   "metadata": {},
   "source": [
    "### Regressions on the dataset\n",
    "\n",
    "I will start with some regressions on the dataset, to see how well the dataset can be modelled with a regression."
   ]
  },
  {
   "cell_type": "code",
   "execution_count": 58,
   "metadata": {},
   "outputs": [
    {
     "data": {
      "image/png": "[encoded data removed]",
      "text/plain": [
       "<Figure size 432x288 with 1 Axes>"
      ]
     },
     "metadata": {
      "needs_background": "light"
     },
     "output_type": "display_data"
    }
   ],
   "source": [
    "sns.regplot(x=\"speed\", y=\"power\", data=wind);"
   ]
  },
  {
   "cell_type": "markdown",
   "metadata": {},
   "source": [
    "Not a great fit, but we will do the fit with sklearn anyway and analyse."
   ]
  },
  {
   "cell_type": "code",
   "execution_count": 61,
   "metadata": {},
   "outputs": [],
   "source": [
    "# do a linear regression with sklearn\n",
    "import sklearn.linear_model as lin\n",
    "\n",
    "# sklearn expects an array, so the data is converted\n",
    "x = wind[\"speed\"].to_numpy()\n",
    "y = wind[\"power\"].to_numpy()\n",
    "\n",
    "# Array needs to be reshaped\n",
    "x = x.reshape(-1, 1)\n",
    "\n",
    "# Create the model and fit\n",
    "model = lin.LinearRegression()\n",
    "model.fit(x, y)\n",
    "\n",
    "# Model score, intercept and coefficient \n",
    "r = model.score(x, y)\n",
    "p = [model.intercept_, model.coef_[0]]"
   ]
  },
  {
   "cell_type": "code",
   "execution_count": 105,
   "metadata": {},
   "outputs": [
    {
     "data": {
      "text/plain": [
       "0.8984832870534454"
      ]
     },
     "execution_count": 105,
     "metadata": {},
     "output_type": "execute_result"
    }
   ],
   "source": [
    "# The R-squared value for the fit. Seems quite high but we can see on the graph that the fit is not that good. [1]\n",
    "r"
   ]
  },
  {
   "cell_type": "code",
   "execution_count": 63,
   "metadata": {},
   "outputs": [
    {
     "data": {
      "text/plain": [
       "[-19.837685452108396, 5.618827837778541]"
      ]
     },
     "execution_count": 63,
     "metadata": {},
     "output_type": "execute_result"
    }
   ],
   "source": [
    "p"
   ]
  },
  {
   "cell_type": "code",
   "execution_count": 65,
   "metadata": {},
   "outputs": [],
   "source": [
    "# A function to predict\n",
    "def f(x, p):\n",
    "    return p[0] + x * p[1]"
   ]
  },
  {
   "cell_type": "code",
   "execution_count": 66,
   "metadata": {},
   "outputs": [
    {
     "data": {
      "text/plain": [
       "53.207076439012646"
      ]
     },
     "execution_count": 66,
     "metadata": {},
     "output_type": "execute_result"
    }
   ],
   "source": [
    "f(13,p)"
   ]
  },
  {
   "cell_type": "code",
   "execution_count": 67,
   "metadata": {},
   "outputs": [],
   "source": [
    "# Simpler way to predict using above function\n",
    "def predict(x):\n",
    "    return f(x,p)"
   ]
  },
  {
   "cell_type": "code",
   "execution_count": 68,
   "metadata": {},
   "outputs": [
    {
     "data": {
      "text/plain": [
       "53.207076439012646"
      ]
     },
     "execution_count": 68,
     "metadata": {},
     "output_type": "execute_result"
    }
   ],
   "source": [
    "predict(13)"
   ]
  },
  {
   "cell_type": "markdown",
   "metadata": {},
   "source": [
    "***\n",
    "Now I will do some more regression using numpy."
   ]
  },
  {
   "cell_type": "code",
   "execution_count": 70,
   "metadata": {},
   "outputs": [],
   "source": [
    "# import numpy and pyplot\n",
    "import numpy as np\n",
    "import matplotlib.pyplot as plt"
   ]
  },
  {
   "cell_type": "code",
   "execution_count": 71,
   "metadata": {},
   "outputs": [],
   "source": [
    "x = wind[\"speed\"].to_numpy()\n",
    "y = wind[\"power\"].to_numpy()"
   ]
  },
  {
   "cell_type": "code",
   "execution_count": 72,
   "metadata": {},
   "outputs": [
    {
     "data": {
      "image/png": "[encoded data removed]",
      "text/plain": [
       "<Figure size 432x288 with 1 Axes>"
      ]
     },
     "metadata": {
      "needs_background": "light"
     },
     "output_type": "display_data"
    }
   ],
   "source": [
    "# Numpy polynomial fit\n",
    "a,b,c = np.polyfit(x,y,2)\n",
    "# plot original data and the quadatic polyfit\n",
    "plt.plot(x, y, 'k.')\n",
    "plt.plot(x, a * x * x + b * x  +  c , 'r-');"
   ]
  },
  {
   "cell_type": "markdown",
   "metadata": {},
   "source": [
    "As we can see, a similar fit to the linear regression."
   ]
  },
  {
   "cell_type": "code",
   "execution_count": 73,
   "metadata": {},
   "outputs": [],
   "source": [
    "# A numpy polynomial fit\n",
    "a, b, c , d = np.polyfit(x, y, 3)"
   ]
  },
  {
   "cell_type": "code",
   "execution_count": 74,
   "metadata": {},
   "outputs": [
    {
     "data": {
      "image/png": "[encoded data removed]",
      "text/plain": [
       "<Figure size 432x288 with 1 Axes>"
      ]
     },
     "metadata": {
      "needs_background": "light"
     },
     "output_type": "display_data"
    }
   ],
   "source": [
    "# Plot the original and fitted data\n",
    "plt.plot(x, y, 'k.')\n",
    "plt.plot(x, a * x * x * x + b * x *x  +  c * x + d, 'r-');"
   ]
  },
  {
   "cell_type": "markdown",
   "metadata": {},
   "source": [
    "The residuals is sum of squared residuals of the least-squares fit. We can use this to get the man squared loss for later comparison with neural network with mean squared loss.[[2]](#References)"
   ]
  },
  {
   "cell_type": "code",
   "execution_count": 84,
   "metadata": {},
   "outputs": [
    {
     "data": {
      "text/plain": [
       "array([16018.47640311])"
      ]
     },
     "execution_count": 84,
     "metadata": {},
     "output_type": "execute_result"
    }
   ],
   "source": [
    "# Get the fit residuals\n",
    "#adatpted from  https://stackoverflow.com/questions/15721053/whats-the-error-of-numpy-polyfit\n",
    "_,res,_,_,_ = np.polyfit(x, y, 3,full=True)\n",
    "res"
   ]
  },
  {
   "cell_type": "markdown",
   "metadata": {},
   "source": [
    "Get the mean squared loss (residuals divided by number or data points)"
   ]
  },
  {
   "cell_type": "code",
   "execution_count": 87,
   "metadata": {},
   "outputs": [
    {
     "name": "stdout",
     "output_type": "stream",
     "text": [
      "Mean Squared Loss is 35.517686037946305.\n"
     ]
    }
   ],
   "source": [
    "msl = res/len(x)\n",
    "print(f\"Mean Squared Loss is {msl[0]}.\")"
   ]
  },
  {
   "cell_type": "markdown",
   "metadata": {},
   "source": [
    "***\n",
    "\n",
    "Modelling using Tensorflow Neural Networks"
   ]
  },
  {
   "cell_type": "code",
   "execution_count": 88,
   "metadata": {},
   "outputs": [],
   "source": [
    "# Import Keras\n",
    "import tensorflow.keras as kr"
   ]
  },
  {
   "cell_type": "code",
   "execution_count": 89,
   "metadata": {},
   "outputs": [],
   "source": [
    "# A sequential model\n",
    "model = kr.models.Sequential()"
   ]
  },
  {
   "cell_type": "code",
   "execution_count": 90,
   "metadata": {},
   "outputs": [],
   "source": [
    "# Add two layers and compile. I tried variations on all these parameters but most of them made no difference and some of them had a negative effect on the fit.\n",
    "model.add(kr.layers.Dense(10, input_shape=(1,), activation='sigmoid', kernel_initializer=\"glorot_uniform\", bias_initializer=\"glorot_uniform\"))\n",
    "model.add(kr.layers.Dense(1, activation='linear', kernel_initializer=\"glorot_uniform\", bias_initializer=\"glorot_uniform\"))\n",
    "model.compile('adam', loss='mean_squared_error')"
   ]
  },
  {
   "cell_type": "code",
   "execution_count": 91,
   "metadata": {
    "scrolled": true
   },
   "outputs": [
    {
     "name": "stdout",
     "output_type": "stream",
     "text": [
      "Epoch 1/500\n",
      "46/46 [==============================] - 0s 4ms/step - loss: 4730.0977\n",
      "Epoch 2/500\n",
      "46/46 [==============================] - 0s 3ms/step - loss: 4689.5996\n",
      "Epoch 3/500\n",
      "46/46 [==============================] - 0s 4ms/step - loss: 4642.0049\n",
      "Epoch 4/500\n",
      "46/46 [==============================] - 0s 4ms/step - loss: 4592.2153\n",
      "Epoch 5/500\n",
      "46/46 [==============================] - 0s 3ms/step - loss: 4531.1992\n",
      "Epoch 6/500\n",
      "46/46 [==============================] - 0s 4ms/step - loss: 4472.4531\n",
      "Epoch 7/500\n",
      "46/46 [==============================] - 0s 4ms/step - loss: 4427.0449\n",
      "Epoch 8/500\n",
      "46/46 [==============================] - 0s 3ms/step - loss: 4389.9912\n",
      "Epoch 9/500\n",
      "46/46 [==============================] - 0s 3ms/step - loss: 4350.1191\n",
      "Epoch 10/500\n",
      "46/46 [==============================] - 0s 4ms/step - loss: 4314.6650\n",
      "Epoch 11/500\n",
      "46/46 [==============================] - 0s 3ms/step - loss: 4283.1265\n",
      "Epoch 12/500\n",
      "46/46 [==============================] - 0s 4ms/step - loss: 4253.7812\n",
      "Epoch 13/500\n",
      "46/46 [==============================] - 0s 4ms/step - loss: 4222.1855\n",
      "Epoch 14/500\n",
      "46/46 [==============================] - 0s 5ms/step - loss: 4185.7690\n",
      "Epoch 15/500\n",
      "46/46 [==============================] - 0s 4ms/step - loss: 4148.3657\n",
      "Epoch 16/500\n",
      "46/46 [==============================] - 0s 4ms/step - loss: 4113.9932\n",
      "Epoch 17/500\n",
      "46/46 [==============================] - 0s 3ms/step - loss: 4081.4541\n",
      "Epoch 18/500\n",
      "46/46 [==============================] - 0s 4ms/step - loss: 4050.5510\n",
      "Epoch 19/500\n",
      "46/46 [==============================] - 0s 3ms/step - loss: 4020.6592\n",
      "Epoch 20/500\n",
      "46/46 [==============================] - 0s 3ms/step - loss: 3990.9011\n",
      "Epoch 21/500\n",
      "46/46 [==============================] - 0s 4ms/step - loss: 3962.7170\n",
      "Epoch 22/500\n",
      "46/46 [==============================] - 0s 3ms/step - loss: 3934.0996\n",
      "Epoch 23/500\n",
      "46/46 [==============================] - 0s 4ms/step - loss: 3906.9810\n",
      "Epoch 24/500\n",
      "46/46 [==============================] - 0s 4ms/step - loss: 3879.6519\n",
      "Epoch 25/500\n",
      "46/46 [==============================] - 0s 3ms/step - loss: 3852.7844\n",
      "Epoch 26/500\n",
      "46/46 [==============================] - 0s 3ms/step - loss: 3813.3174\n",
      "Epoch 27/500\n",
      "46/46 [==============================] - 0s 3ms/step - loss: 3745.7610\n",
      "Epoch 28/500\n",
      "46/46 [==============================] - 0s 3ms/step - loss: 3703.1658\n",
      "Epoch 29/500\n",
      "46/46 [==============================] - 0s 4ms/step - loss: 3666.1611\n",
      "Epoch 30/500\n",
      "46/46 [==============================] - 0s 3ms/step - loss: 3632.0730\n",
      "Epoch 31/500\n",
      "46/46 [==============================] - 0s 3ms/step - loss: 3600.2891\n",
      "Epoch 32/500\n",
      "46/46 [==============================] - 0s 3ms/step - loss: 3570.3933\n",
      "Epoch 33/500\n",
      "46/46 [==============================] - 0s 3ms/step - loss: 3540.0300\n",
      "Epoch 34/500\n",
      "46/46 [==============================] - 0s 3ms/step - loss: 3510.8093\n",
      "Epoch 35/500\n",
      "46/46 [==============================] - 0s 3ms/step - loss: 3482.1545\n",
      "Epoch 36/500\n",
      "46/46 [==============================] - 0s 3ms/step - loss: 3454.6990\n",
      "Epoch 37/500\n",
      "46/46 [==============================] - 0s 3ms/step - loss: 3427.6104\n",
      "Epoch 38/500\n",
      "46/46 [==============================] - 0s 3ms/step - loss: 3400.7991\n",
      "Epoch 39/500\n",
      "46/46 [==============================] - 0s 3ms/step - loss: 3373.8132: 0s - loss: 316\n",
      "Epoch 40/500\n",
      "46/46 [==============================] - 0s 4ms/step - loss: 3347.8486\n",
      "Epoch 41/500\n",
      "46/46 [==============================] - 0s 4ms/step - loss: 3321.9609\n",
      "Epoch 42/500\n",
      "46/46 [==============================] - 0s 5ms/step - loss: 3296.3123: 0s - loss: 318\n",
      "Epoch 43/500\n",
      "46/46 [==============================] - 0s 3ms/step - loss: 3271.7085\n",
      "Epoch 44/500\n",
      "46/46 [==============================] - 0s 4ms/step - loss: 3247.5715\n",
      "Epoch 45/500\n",
      "46/46 [==============================] - 0s 4ms/step - loss: 3223.5508\n",
      "Epoch 46/500\n",
      "46/46 [==============================] - 0s 3ms/step - loss: 3199.9448\n",
      "Epoch 47/500\n",
      "46/46 [==============================] - 0s 4ms/step - loss: 3175.4636\n",
      "Epoch 48/500\n",
      "46/46 [==============================] - 0s 3ms/step - loss: 3151.3982\n",
      "Epoch 49/500\n",
      "46/46 [==============================] - 0s 3ms/step - loss: 3127.4138\n",
      "Epoch 50/500\n",
      "46/46 [==============================] - 0s 3ms/step - loss: 3103.8838\n",
      "Epoch 51/500\n",
      "46/46 [==============================] - 0s 4ms/step - loss: 3081.1060\n",
      "Epoch 52/500\n",
      "46/46 [==============================] - ETA: 0s - loss: 3028.73 - 0s 4ms/step - loss: 3058.6394\n",
      "Epoch 53/500\n",
      "46/46 [==============================] - 0s 4ms/step - loss: 3035.7383\n",
      "Epoch 54/500\n",
      "46/46 [==============================] - 0s 4ms/step - loss: 3012.9636\n",
      "Epoch 55/500\n",
      "46/46 [==============================] - 0s 4ms/step - loss: 2990.5188\n",
      "Epoch 56/500\n",
      "46/46 [==============================] - 0s 3ms/step - loss: 2968.7434\n",
      "Epoch 57/500\n",
      "46/46 [==============================] - 0s 4ms/step - loss: 2946.3643\n",
      "Epoch 58/500\n",
      "46/46 [==============================] - 0s 8ms/step - loss: 2924.7249\n",
      "Epoch 59/500\n",
      "46/46 [==============================] - 0s 4ms/step - loss: 2903.1360\n",
      "Epoch 60/500\n",
      "46/46 [==============================] - 0s 4ms/step - loss: 2881.7463\n",
      "Epoch 61/500\n",
      "46/46 [==============================] - 0s 4ms/step - loss: 2860.0544\n",
      "Epoch 62/500\n",
      "46/46 [==============================] - 0s 3ms/step - loss: 2839.0535\n",
      "Epoch 63/500\n",
      "46/46 [==============================] - 0s 6ms/step - loss: 2818.0862\n",
      "Epoch 64/500\n",
      "46/46 [==============================] - 0s 5ms/step - loss: 2796.6826\n",
      "Epoch 65/500\n",
      "46/46 [==============================] - 0s 4ms/step - loss: 2775.1802\n",
      "Epoch 66/500\n",
      "46/46 [==============================] - 0s 4ms/step - loss: 2754.5310\n",
      "Epoch 67/500\n",
      "46/46 [==============================] - 0s 5ms/step - loss: 2734.3335\n",
      "Epoch 68/500\n",
      "46/46 [==============================] - 0s 4ms/step - loss: 2713.2378\n",
      "Epoch 69/500\n",
      "46/46 [==============================] - 0s 4ms/step - loss: 2692.8899\n",
      "Epoch 70/500\n",
      "46/46 [==============================] - 0s 4ms/step - loss: 2672.3716\n",
      "Epoch 71/500\n",
      "46/46 [==============================] - 0s 3ms/step - loss: 2652.3706\n",
      "Epoch 72/500\n",
      "46/46 [==============================] - 0s 4ms/step - loss: 2631.8655\n",
      "Epoch 73/500\n",
      "46/46 [==============================] - 0s 4ms/step - loss: 2612.1089\n",
      "Epoch 74/500\n",
      "46/46 [==============================] - 0s 4ms/step - loss: 2592.4343\n",
      "Epoch 75/500\n",
      "46/46 [==============================] - 0s 3ms/step - loss: 2572.4917\n",
      "Epoch 76/500\n",
      "46/46 [==============================] - 0s 3ms/step - loss: 2552.6543\n",
      "Epoch 77/500\n",
      "46/46 [==============================] - 0s 4ms/step - loss: 2533.1829\n",
      "Epoch 78/500\n",
      "46/46 [==============================] - 0s 3ms/step - loss: 2513.3428\n",
      "Epoch 79/500\n",
      "46/46 [==============================] - 0s 4ms/step - loss: 2494.0515\n",
      "Epoch 80/500\n",
      "46/46 [==============================] - 0s 3ms/step - loss: 2474.3516\n",
      "Epoch 81/500\n",
      "46/46 [==============================] - 0s 3ms/step - loss: 2455.3154\n",
      "Epoch 82/500\n",
      "46/46 [==============================] - 0s 3ms/step - loss: 2436.2002\n",
      "Epoch 83/500\n",
      "46/46 [==============================] - 0s 4ms/step - loss: 2417.3337\n",
      "Epoch 84/500\n",
      "46/46 [==============================] - 0s 3ms/step - loss: 2398.1194\n",
      "Epoch 85/500\n",
      "46/46 [==============================] - 0s 4ms/step - loss: 2378.9502\n",
      "Epoch 86/500\n",
      "46/46 [==============================] - 0s 4ms/step - loss: 2359.7964\n",
      "Epoch 87/500\n",
      "46/46 [==============================] - 0s 4ms/step - loss: 2341.2153\n",
      "Epoch 88/500\n",
      "46/46 [==============================] - 0s 7ms/step - loss: 2322.5303\n",
      "Epoch 89/500\n",
      "46/46 [==============================] - 0s 4ms/step - loss: 2304.3889\n",
      "Epoch 90/500\n",
      "46/46 [==============================] - 0s 3ms/step - loss: 2285.7473\n",
      "Epoch 91/500\n",
      "46/46 [==============================] - 0s 4ms/step - loss: 2267.0251\n",
      "Epoch 92/500\n",
      "46/46 [==============================] - 0s 4ms/step - loss: 2248.3279\n",
      "Epoch 93/500\n",
      "46/46 [==============================] - 0s 3ms/step - loss: 2229.8564\n",
      "Epoch 94/500\n",
      "46/46 [==============================] - 0s 3ms/step - loss: 2211.7524\n",
      "Epoch 95/500\n",
      "46/46 [==============================] - 0s 3ms/step - loss: 2193.9365\n",
      "Epoch 96/500\n",
      "46/46 [==============================] - 0s 4ms/step - loss: 2175.8184\n",
      "Epoch 97/500\n",
      "46/46 [==============================] - 0s 4ms/step - loss: 2157.8953\n",
      "Epoch 98/500\n",
      "46/46 [==============================] - 0s 6ms/step - loss: 2139.6948\n",
      "Epoch 99/500\n",
      "46/46 [==============================] - 0s 6ms/step - loss: 2122.5979\n",
      "Epoch 100/500\n",
      "46/46 [==============================] - 0s 7ms/step - loss: 2104.8511\n",
      "Epoch 101/500\n",
      "46/46 [==============================] - 0s 8ms/step - loss: 2087.7622\n",
      "Epoch 102/500\n",
      "46/46 [==============================] - 1s 14ms/step - loss: 2070.7651\n",
      "Epoch 103/500\n",
      "46/46 [==============================] - 0s 6ms/step - loss: 2053.4290\n",
      "Epoch 104/500\n",
      "46/46 [==============================] - 0s 5ms/step - loss: 2036.4756\n",
      "Epoch 105/500\n",
      "46/46 [==============================] - 0s 7ms/step - loss: 2019.2211\n",
      "Epoch 106/500\n",
      "46/46 [==============================] - 0s 5ms/step - loss: 2002.4861\n",
      "Epoch 107/500\n",
      "46/46 [==============================] - 0s 6ms/step - loss: 1985.4299\n",
      "Epoch 108/500\n",
      "46/46 [==============================] - 0s 5ms/step - loss: 1968.4209\n",
      "Epoch 109/500\n",
      "46/46 [==============================] - 0s 5ms/step - loss: 1951.3342\n",
      "Epoch 110/500\n",
      "46/46 [==============================] - 0s 4ms/step - loss: 1934.5353\n",
      "Epoch 111/500\n",
      "46/46 [==============================] - 0s 4ms/step - loss: 1918.1874\n",
      "Epoch 112/500\n",
      "46/46 [==============================] - 0s 4ms/step - loss: 1902.2240\n",
      "Epoch 113/500\n",
      "46/46 [==============================] - 0s 3ms/step - loss: 1885.9318\n",
      "Epoch 114/500\n",
      "46/46 [==============================] - 0s 4ms/step - loss: 1869.5978\n",
      "Epoch 115/500\n",
      "46/46 [==============================] - 0s 3ms/step - loss: 1853.7777\n",
      "Epoch 116/500\n",
      "46/46 [==============================] - 0s 3ms/step - loss: 1838.0919\n",
      "Epoch 117/500\n",
      "46/46 [==============================] - 0s 3ms/step - loss: 1822.6190\n",
      "Epoch 118/500\n",
      "46/46 [==============================] - 0s 3ms/step - loss: 1806.6494\n",
      "Epoch 119/500\n",
      "46/46 [==============================] - 0s 4ms/step - loss: 1790.5598\n",
      "Epoch 120/500\n",
      "46/46 [==============================] - 0s 5ms/step - loss: 1775.3092\n",
      "Epoch 121/500\n",
      "46/46 [==============================] - 0s 3ms/step - loss: 1760.1816\n",
      "Epoch 122/500\n",
      "46/46 [==============================] - 0s 4ms/step - loss: 1744.4736\n",
      "Epoch 123/500\n",
      "46/46 [==============================] - 0s 3ms/step - loss: 1729.4305\n",
      "Epoch 124/500\n",
      "46/46 [==============================] - 0s 3ms/step - loss: 1714.9210\n",
      "Epoch 125/500\n",
      "46/46 [==============================] - 0s 3ms/step - loss: 1699.5881\n",
      "Epoch 126/500\n",
      "46/46 [==============================] - 0s 2ms/step - loss: 1684.7281\n",
      "Epoch 127/500\n",
      "46/46 [==============================] - 0s 3ms/step - loss: 1670.0824\n",
      "Epoch 128/500\n",
      "46/46 [==============================] - 0s 3ms/step - loss: 1654.8712\n",
      "Epoch 129/500\n",
      "46/46 [==============================] - 0s 3ms/step - loss: 1640.2876\n",
      "Epoch 130/500\n",
      "46/46 [==============================] - 0s 3ms/step - loss: 1625.8500\n",
      "Epoch 131/500\n",
      "46/46 [==============================] - 0s 4ms/step - loss: 1610.8956\n",
      "Epoch 132/500\n",
      "46/46 [==============================] - 0s 3ms/step - loss: 1596.4889\n",
      "Epoch 133/500\n",
      "46/46 [==============================] - 0s 3ms/step - loss: 1582.1177\n",
      "Epoch 134/500\n",
      "46/46 [==============================] - 0s 3ms/step - loss: 1568.0486\n",
      "Epoch 135/500\n",
      "46/46 [==============================] - ETA: 0s - loss: 1558.53 - 0s 3ms/step - loss: 1553.4900\n",
      "Epoch 136/500\n",
      "46/46 [==============================] - 0s 3ms/step - loss: 1539.4346\n",
      "Epoch 137/500\n",
      "46/46 [==============================] - 0s 4ms/step - loss: 1525.4857\n",
      "Epoch 138/500\n",
      "46/46 [==============================] - 0s 3ms/step - loss: 1511.4852\n",
      "Epoch 139/500\n",
      "46/46 [==============================] - 0s 3ms/step - loss: 1497.5983\n",
      "Epoch 140/500\n",
      "46/46 [==============================] - 0s 3ms/step - loss: 1484.0125\n",
      "Epoch 141/500\n",
      "46/46 [==============================] - 0s 3ms/step - loss: 1470.1946\n",
      "Epoch 142/500\n",
      "46/46 [==============================] - 0s 4ms/step - loss: 1456.0752\n",
      "Epoch 143/500\n",
      "46/46 [==============================] - 0s 3ms/step - loss: 1442.3378\n",
      "Epoch 144/500\n",
      "46/46 [==============================] - 0s 4ms/step - loss: 1428.9059\n",
      "Epoch 145/500\n",
      "46/46 [==============================] - 0s 3ms/step - loss: 1415.2355\n",
      "Epoch 146/500\n",
      "46/46 [==============================] - 0s 3ms/step - loss: 1401.7518\n",
      "Epoch 147/500\n",
      "46/46 [==============================] - 0s 3ms/step - loss: 1387.8665\n",
      "Epoch 148/500\n",
      "46/46 [==============================] - 0s 4ms/step - loss: 1374.8041\n",
      "Epoch 149/500\n",
      "46/46 [==============================] - 0s 2ms/step - loss: 1361.7545\n",
      "Epoch 150/500\n",
      "46/46 [==============================] - 0s 4ms/step - loss: 1348.3646\n",
      "Epoch 151/500\n",
      "46/46 [==============================] - 0s 3ms/step - loss: 1335.1476\n",
      "Epoch 152/500\n",
      "46/46 [==============================] - 0s 3ms/step - loss: 1321.9211\n",
      "Epoch 153/500\n",
      "46/46 [==============================] - 0s 3ms/step - loss: 1309.1176\n",
      "Epoch 154/500\n",
      "46/46 [==============================] - 0s 3ms/step - loss: 1296.1545\n",
      "Epoch 155/500\n",
      "46/46 [==============================] - 0s 3ms/step - loss: 1283.2297\n",
      "Epoch 156/500\n",
      "46/46 [==============================] - 0s 4ms/step - loss: 1271.0122\n",
      "Epoch 157/500\n",
      "46/46 [==============================] - 0s 3ms/step - loss: 1257.9910\n",
      "Epoch 158/500\n",
      "46/46 [==============================] - 0s 4ms/step - loss: 1245.4875\n",
      "Epoch 159/500\n",
      "46/46 [==============================] - 0s 3ms/step - loss: 1233.4890\n",
      "Epoch 160/500\n",
      "46/46 [==============================] - 0s 3ms/step - loss: 1221.2379\n",
      "Epoch 161/500\n",
      "46/46 [==============================] - 0s 4ms/step - loss: 1208.9680\n",
      "Epoch 162/500\n",
      "46/46 [==============================] - 0s 4ms/step - loss: 1197.1072\n",
      "Epoch 163/500\n",
      "46/46 [==============================] - 0s 3ms/step - loss: 1184.6816\n",
      "Epoch 164/500\n",
      "46/46 [==============================] - 0s 3ms/step - loss: 1172.9210\n",
      "Epoch 165/500\n",
      "46/46 [==============================] - 0s 4ms/step - loss: 1161.0925\n",
      "Epoch 166/500\n",
      "46/46 [==============================] - 0s 3ms/step - loss: 1149.0961\n",
      "Epoch 167/500\n",
      "46/46 [==============================] - 0s 4ms/step - loss: 1137.3654\n",
      "Epoch 168/500\n",
      "46/46 [==============================] - 0s 3ms/step - loss: 1125.6631\n",
      "Epoch 169/500\n",
      "46/46 [==============================] - 0s 3ms/step - loss: 1114.2037\n",
      "Epoch 170/500\n",
      "46/46 [==============================] - 0s 3ms/step - loss: 1102.5945\n",
      "Epoch 171/500\n",
      "46/46 [==============================] - 0s 4ms/step - loss: 1090.9335\n",
      "Epoch 172/500\n",
      "46/46 [==============================] - 0s 4ms/step - loss: 1079.6169\n",
      "Epoch 173/500\n",
      "46/46 [==============================] - 0s 4ms/step - loss: 1068.7278\n",
      "Epoch 174/500\n",
      "46/46 [==============================] - 0s 4ms/step - loss: 1057.5239\n",
      "Epoch 175/500\n",
      "46/46 [==============================] - 0s 3ms/step - loss: 1046.5626\n",
      "Epoch 176/500\n",
      "46/46 [==============================] - 0s 3ms/step - loss: 1035.1830\n",
      "Epoch 177/500\n",
      "46/46 [==============================] - 0s 4ms/step - loss: 1024.2678\n",
      "Epoch 178/500\n",
      "46/46 [==============================] - 0s 4ms/step - loss: 1013.1661\n",
      "Epoch 179/500\n",
      "46/46 [==============================] - 0s 4ms/step - loss: 1002.2080\n",
      "Epoch 180/500\n",
      "46/46 [==============================] - 0s 3ms/step - loss: 991.5427\n",
      "Epoch 181/500\n",
      "46/46 [==============================] - 0s 4ms/step - loss: 981.2443\n",
      "Epoch 182/500\n",
      "46/46 [==============================] - 0s 4ms/step - loss: 970.2889\n",
      "Epoch 183/500\n",
      "46/46 [==============================] - 0s 3ms/step - loss: 959.6463\n",
      "Epoch 184/500\n",
      "46/46 [==============================] - 0s 3ms/step - loss: 949.2896\n",
      "Epoch 185/500\n",
      "46/46 [==============================] - 0s 3ms/step - loss: 938.7845\n",
      "Epoch 186/500\n",
      "46/46 [==============================] - 0s 3ms/step - loss: 928.4872\n",
      "Epoch 187/500\n",
      "46/46 [==============================] - 0s 3ms/step - loss: 918.3759\n",
      "Epoch 188/500\n",
      "46/46 [==============================] - 0s 4ms/step - loss: 907.9532\n",
      "Epoch 189/500\n",
      "46/46 [==============================] - 0s 3ms/step - loss: 897.8614\n",
      "Epoch 190/500\n",
      "46/46 [==============================] - ETA: 0s - loss: 888.867 - 0s 4ms/step - loss: 887.6185\n",
      "Epoch 191/500\n",
      "46/46 [==============================] - 0s 5ms/step - loss: 877.7085\n",
      "Epoch 192/500\n",
      "46/46 [==============================] - 0s 5ms/step - loss: 867.5533\n",
      "Epoch 193/500\n",
      "46/46 [==============================] - 0s 5ms/step - loss: 857.4346\n",
      "Epoch 194/500\n",
      "46/46 [==============================] - 0s 4ms/step - loss: 839.3504\n",
      "Epoch 195/500\n",
      "46/46 [==============================] - 0s 3ms/step - loss: 816.6810\n",
      "Epoch 196/500\n",
      "46/46 [==============================] - 0s 4ms/step - loss: 800.7449\n",
      "Epoch 197/500\n",
      "46/46 [==============================] - 0s 3ms/step - loss: 786.7014\n",
      "Epoch 198/500\n",
      "46/46 [==============================] - 0s 7ms/step - loss: 773.8257\n",
      "Epoch 199/500\n",
      "46/46 [==============================] - 0s 5ms/step - loss: 762.0492\n",
      "Epoch 200/500\n",
      "46/46 [==============================] - 0s 4ms/step - loss: 751.1702\n",
      "Epoch 201/500\n",
      "46/46 [==============================] - 0s 3ms/step - loss: 739.1206\n",
      "Epoch 202/500\n",
      "46/46 [==============================] - 0s 4ms/step - loss: 727.6541A: 0s - loss: 731.06\n",
      "Epoch 203/500\n",
      "46/46 [==============================] - 0s 3ms/step - loss: 716.7723\n",
      "Epoch 204/500\n",
      "46/46 [==============================] - 0s 4ms/step - loss: 706.3145\n",
      "Epoch 205/500\n",
      "46/46 [==============================] - 0s 4ms/step - loss: 696.1206\n",
      "Epoch 206/500\n",
      "46/46 [==============================] - 0s 4ms/step - loss: 686.2058\n",
      "Epoch 207/500\n",
      "46/46 [==============================] - 0s 3ms/step - loss: 675.2632\n",
      "Epoch 208/500\n",
      "46/46 [==============================] - 0s 4ms/step - loss: 664.9179\n",
      "Epoch 209/500\n",
      "46/46 [==============================] - 0s 4ms/step - loss: 655.1106\n",
      "Epoch 210/500\n",
      "46/46 [==============================] - 0s 4ms/step - loss: 645.3617\n",
      "Epoch 211/500\n",
      "46/46 [==============================] - 0s 4ms/step - loss: 635.5216\n",
      "Epoch 212/500\n",
      "46/46 [==============================] - 0s 4ms/step - loss: 625.8902\n",
      "Epoch 213/500\n",
      "46/46 [==============================] - 0s 4ms/step - loss: 616.9653\n",
      "Epoch 214/500\n",
      "46/46 [==============================] - 0s 4ms/step - loss: 607.7019\n",
      "Epoch 215/500\n",
      "46/46 [==============================] - 0s 6ms/step - loss: 598.8997\n",
      "Epoch 216/500\n",
      "46/46 [==============================] - 0s 3ms/step - loss: 589.3198\n",
      "Epoch 217/500\n",
      "46/46 [==============================] - 0s 3ms/step - loss: 580.2656\n",
      "Epoch 218/500\n",
      "46/46 [==============================] - 0s 4ms/step - loss: 570.9989\n",
      "Epoch 219/500\n",
      "46/46 [==============================] - 0s 3ms/step - loss: 562.3687\n",
      "Epoch 220/500\n",
      "46/46 [==============================] - 0s 3ms/step - loss: 553.7559\n",
      "Epoch 221/500\n",
      "46/46 [==============================] - 0s 3ms/step - loss: 545.1058\n",
      "Epoch 222/500\n",
      "46/46 [==============================] - 0s 4ms/step - loss: 536.4346\n",
      "Epoch 223/500\n",
      "46/46 [==============================] - 0s 4ms/step - loss: 528.4468\n",
      "Epoch 224/500\n",
      "46/46 [==============================] - 0s 3ms/step - loss: 520.3461\n",
      "Epoch 225/500\n",
      "46/46 [==============================] - 0s 4ms/step - loss: 512.1595\n",
      "Epoch 226/500\n",
      "46/46 [==============================] - 0s 4ms/step - loss: 504.2894\n",
      "Epoch 227/500\n",
      "46/46 [==============================] - 0s 3ms/step - loss: 496.6296\n",
      "Epoch 228/500\n",
      "46/46 [==============================] - 0s 4ms/step - loss: 488.4891\n",
      "Epoch 229/500\n",
      "46/46 [==============================] - 0s 4ms/step - loss: 480.8885\n",
      "Epoch 230/500\n",
      "46/46 [==============================] - 0s 4ms/step - loss: 473.2261\n",
      "Epoch 231/500\n",
      "46/46 [==============================] - 0s 3ms/step - loss: 465.7982\n",
      "Epoch 232/500\n",
      "46/46 [==============================] - 0s 3ms/step - loss: 458.4595\n",
      "Epoch 233/500\n",
      "46/46 [==============================] - 0s 3ms/step - loss: 451.0268\n",
      "Epoch 234/500\n",
      "46/46 [==============================] - 0s 3ms/step - loss: 443.5514\n",
      "Epoch 235/500\n",
      "46/46 [==============================] - 0s 3ms/step - loss: 436.4820\n",
      "Epoch 236/500\n",
      "46/46 [==============================] - 0s 3ms/step - loss: 429.3512\n",
      "Epoch 237/500\n",
      "46/46 [==============================] - 0s 3ms/step - loss: 422.2260\n",
      "Epoch 238/500\n",
      "46/46 [==============================] - 0s 4ms/step - loss: 415.2306\n",
      "Epoch 239/500\n",
      "46/46 [==============================] - 0s 5ms/step - loss: 408.2843\n",
      "Epoch 240/500\n",
      "46/46 [==============================] - 0s 4ms/step - loss: 401.3499\n",
      "Epoch 241/500\n",
      "46/46 [==============================] - 0s 4ms/step - loss: 394.7359\n",
      "Epoch 242/500\n",
      "46/46 [==============================] - 0s 4ms/step - loss: 388.0694\n",
      "Epoch 243/500\n",
      "46/46 [==============================] - 0s 3ms/step - loss: 381.5934\n",
      "Epoch 244/500\n",
      "46/46 [==============================] - 0s 3ms/step - loss: 374.8753\n",
      "Epoch 245/500\n",
      "46/46 [==============================] - 0s 3ms/step - loss: 368.3633\n",
      "Epoch 246/500\n",
      "46/46 [==============================] - 0s 3ms/step - loss: 362.0094\n",
      "Epoch 247/500\n",
      "46/46 [==============================] - 0s 4ms/step - loss: 355.4503\n",
      "Epoch 248/500\n",
      "46/46 [==============================] - 0s 3ms/step - loss: 349.3887\n",
      "Epoch 249/500\n",
      "46/46 [==============================] - 0s 3ms/step - loss: 343.3878\n",
      "Epoch 250/500\n",
      "46/46 [==============================] - 0s 3ms/step - loss: 337.4014\n",
      "Epoch 251/500\n",
      "46/46 [==============================] - 0s 3ms/step - loss: 331.3839\n",
      "Epoch 252/500\n",
      "46/46 [==============================] - 0s 3ms/step - loss: 325.1934\n",
      "Epoch 253/500\n",
      "46/46 [==============================] - 0s 3ms/step - loss: 319.5951A: 0s - loss: 337.77\n",
      "Epoch 254/500\n",
      "46/46 [==============================] - 0s 3ms/step - loss: 313.6625\n",
      "Epoch 255/500\n",
      "46/46 [==============================] - 0s 3ms/step - loss: 308.0017\n",
      "Epoch 256/500\n",
      "46/46 [==============================] - 0s 4ms/step - loss: 302.4433\n",
      "Epoch 257/500\n",
      "46/46 [==============================] - 0s 5ms/step - loss: 296.9319A: 0s - loss: 294.3\n",
      "Epoch 258/500\n",
      "46/46 [==============================] - 0s 3ms/step - loss: 291.4208\n",
      "Epoch 259/500\n",
      "46/46 [==============================] - 0s 3ms/step - loss: 286.0626\n",
      "Epoch 260/500\n",
      "46/46 [==============================] - 0s 4ms/step - loss: 280.5743\n",
      "Epoch 261/500\n",
      "46/46 [==============================] - 0s 4ms/step - loss: 275.4853\n",
      "Epoch 262/500\n",
      "46/46 [==============================] - 0s 3ms/step - loss: 270.1523\n",
      "Epoch 263/500\n",
      "46/46 [==============================] - 0s 4ms/step - loss: 265.0963\n",
      "Epoch 264/500\n",
      "46/46 [==============================] - 0s 5ms/step - loss: 260.1561\n",
      "Epoch 265/500\n",
      "46/46 [==============================] - 0s 4ms/step - loss: 255.1165\n",
      "Epoch 266/500\n",
      "46/46 [==============================] - 0s 3ms/step - loss: 249.7507\n",
      "Epoch 267/500\n",
      "46/46 [==============================] - 0s 3ms/step - loss: 244.9259\n",
      "Epoch 268/500\n",
      "46/46 [==============================] - 0s 4ms/step - loss: 240.1627\n",
      "Epoch 269/500\n",
      "46/46 [==============================] - 0s 4ms/step - loss: 235.4558\n",
      "Epoch 270/500\n",
      "46/46 [==============================] - 0s 4ms/step - loss: 230.7350\n",
      "Epoch 271/500\n",
      "46/46 [==============================] - 0s 4ms/step - loss: 226.0636\n",
      "Epoch 272/500\n",
      "46/46 [==============================] - 0s 3ms/step - loss: 221.3607\n",
      "Epoch 273/500\n",
      "46/46 [==============================] - 0s 3ms/step - loss: 216.9838\n",
      "Epoch 274/500\n",
      "46/46 [==============================] - 0s 3ms/step - loss: 212.3762\n",
      "Epoch 275/500\n",
      "46/46 [==============================] - 0s 3ms/step - loss: 208.1241\n",
      "Epoch 276/500\n",
      "46/46 [==============================] - 0s 3ms/step - loss: 203.5418\n",
      "Epoch 277/500\n",
      "46/46 [==============================] - 0s 3ms/step - loss: 199.4615\n",
      "Epoch 278/500\n",
      "46/46 [==============================] - 0s 3ms/step - loss: 195.3245\n",
      "Epoch 279/500\n",
      "46/46 [==============================] - 0s 3ms/step - loss: 190.9827\n",
      "Epoch 280/500\n",
      "46/46 [==============================] - 0s 3ms/step - loss: 187.1679\n",
      "Epoch 281/500\n",
      "46/46 [==============================] - 0s 4ms/step - loss: 182.9103\n",
      "Epoch 282/500\n",
      "46/46 [==============================] - ETA: 0s - loss: 179.617 - 0s 4ms/step - loss: 179.0386\n",
      "Epoch 283/500\n",
      "46/46 [==============================] - 0s 3ms/step - loss: 175.2711\n",
      "Epoch 284/500\n",
      "46/46 [==============================] - 0s 3ms/step - loss: 171.2082\n",
      "Epoch 285/500\n",
      "46/46 [==============================] - 0s 3ms/step - loss: 167.6117\n",
      "Epoch 286/500\n",
      "46/46 [==============================] - 0s 3ms/step - loss: 163.5126\n",
      "Epoch 287/500\n",
      "46/46 [==============================] - 0s 3ms/step - loss: 159.9449\n",
      "Epoch 288/500\n",
      "46/46 [==============================] - 0s 3ms/step - loss: 156.3817\n",
      "Epoch 289/500\n",
      "46/46 [==============================] - 0s 3ms/step - loss: 152.7174\n",
      "Epoch 290/500\n",
      "46/46 [==============================] - 0s 3ms/step - loss: 149.2162\n",
      "Epoch 291/500\n",
      "46/46 [==============================] - 0s 3ms/step - loss: 145.7671\n",
      "Epoch 292/500\n",
      "46/46 [==============================] - 0s 3ms/step - loss: 142.5675\n",
      "Epoch 293/500\n",
      "46/46 [==============================] - 0s 3ms/step - loss: 139.1532\n",
      "Epoch 294/500\n",
      "46/46 [==============================] - 0s 3ms/step - loss: 135.8060\n",
      "Epoch 295/500\n",
      "46/46 [==============================] - 0s 4ms/step - loss: 132.9470\n",
      "Epoch 296/500\n",
      "46/46 [==============================] - 0s 3ms/step - loss: 129.6499\n",
      "Epoch 297/500\n",
      "46/46 [==============================] - 0s 3ms/step - loss: 126.5895\n",
      "Epoch 298/500\n",
      "46/46 [==============================] - 0s 3ms/step - loss: 123.6002\n",
      "Epoch 299/500\n",
      "46/46 [==============================] - 0s 3ms/step - loss: 120.8019\n",
      "Epoch 300/500\n",
      "46/46 [==============================] - 0s 4ms/step - loss: 118.0153\n",
      "Epoch 301/500\n",
      "46/46 [==============================] - 0s 4ms/step - loss: 114.9573\n",
      "Epoch 302/500\n",
      "46/46 [==============================] - 0s 3ms/step - loss: 112.3464\n",
      "Epoch 303/500\n",
      "46/46 [==============================] - 0s 3ms/step - loss: 109.3140\n",
      "Epoch 304/500\n",
      "46/46 [==============================] - 0s 3ms/step - loss: 106.7137\n",
      "Epoch 305/500\n",
      "46/46 [==============================] - 0s 3ms/step - loss: 104.3035\n",
      "Epoch 306/500\n",
      "46/46 [==============================] - 0s 3ms/step - loss: 101.6199\n",
      "Epoch 307/500\n",
      "46/46 [==============================] - 0s 3ms/step - loss: 98.9677\n",
      "Epoch 308/500\n",
      "46/46 [==============================] - 0s 3ms/step - loss: 96.5232\n",
      "Epoch 309/500\n",
      "46/46 [==============================] - 0s 3ms/step - loss: 93.9834\n",
      "Epoch 310/500\n",
      "46/46 [==============================] - 0s 3ms/step - loss: 91.5558\n",
      "Epoch 311/500\n",
      "46/46 [==============================] - 0s 4ms/step - loss: 89.4259\n",
      "Epoch 312/500\n",
      "46/46 [==============================] - 0s 3ms/step - loss: 86.9453\n",
      "Epoch 313/500\n",
      "46/46 [==============================] - 0s 3ms/step - loss: 84.8752\n",
      "Epoch 314/500\n",
      "46/46 [==============================] - 0s 3ms/step - loss: 82.5392\n",
      "Epoch 315/500\n",
      "46/46 [==============================] - 0s 3ms/step - loss: 80.5429\n",
      "Epoch 316/500\n",
      "46/46 [==============================] - 0s 3ms/step - loss: 78.4660\n",
      "Epoch 317/500\n",
      "46/46 [==============================] - 0s 4ms/step - loss: 76.3676\n",
      "Epoch 318/500\n",
      "46/46 [==============================] - 0s 3ms/step - loss: 74.2293\n",
      "Epoch 319/500\n",
      "46/46 [==============================] - 0s 3ms/step - loss: 72.5077\n",
      "Epoch 320/500\n",
      "46/46 [==============================] - 0s 4ms/step - loss: 70.4177\n",
      "Epoch 321/500\n",
      "46/46 [==============================] - 0s 3ms/step - loss: 68.5601\n",
      "Epoch 322/500\n",
      "46/46 [==============================] - 0s 3ms/step - loss: 66.8192\n",
      "Epoch 323/500\n",
      "46/46 [==============================] - 0s 3ms/step - loss: 65.0147\n",
      "Epoch 324/500\n",
      "46/46 [==============================] - 0s 3ms/step - loss: 63.2884\n",
      "Epoch 325/500\n",
      "46/46 [==============================] - 0s 3ms/step - loss: 61.5486\n",
      "Epoch 326/500\n",
      "46/46 [==============================] - 0s 5ms/step - loss: 59.8977\n",
      "Epoch 327/500\n",
      "46/46 [==============================] - 0s 4ms/step - loss: 58.2584\n",
      "Epoch 328/500\n",
      "46/46 [==============================] - 0s 5ms/step - loss: 56.7418\n",
      "Epoch 329/500\n",
      "46/46 [==============================] - 0s 4ms/step - loss: 55.1385\n",
      "Epoch 330/500\n",
      "46/46 [==============================] - 0s 3ms/step - loss: 53.6387\n",
      "Epoch 331/500\n",
      "46/46 [==============================] - 0s 3ms/step - loss: 52.2604\n",
      "Epoch 332/500\n",
      "46/46 [==============================] - 0s 4ms/step - loss: 50.8862\n",
      "Epoch 333/500\n",
      "46/46 [==============================] - 0s 3ms/step - loss: 49.4793\n",
      "Epoch 334/500\n",
      "46/46 [==============================] - 0s 3ms/step - loss: 48.1992\n",
      "Epoch 335/500\n",
      "46/46 [==============================] - 0s 4ms/step - loss: 46.9452\n",
      "Epoch 336/500\n",
      "46/46 [==============================] - 0s 3ms/step - loss: 45.6380\n",
      "Epoch 337/500\n",
      "46/46 [==============================] - 0s 3ms/step - loss: 44.4294\n",
      "Epoch 338/500\n",
      "46/46 [==============================] - 0s 3ms/step - loss: 43.2880\n",
      "Epoch 339/500\n",
      "46/46 [==============================] - 0s 3ms/step - loss: 42.2345\n",
      "Epoch 340/500\n",
      "46/46 [==============================] - 0s 4ms/step - loss: 41.0989: 0s - loss: 4\n",
      "Epoch 341/500\n",
      "46/46 [==============================] - 0s 3ms/step - loss: 39.9681\n",
      "Epoch 342/500\n",
      "46/46 [==============================] - 0s 3ms/step - loss: 39.1042\n",
      "Epoch 343/500\n",
      "46/46 [==============================] - 0s 3ms/step - loss: 37.9556\n",
      "Epoch 344/500\n",
      "46/46 [==============================] - 0s 3ms/step - loss: 37.0060\n",
      "Epoch 345/500\n",
      "46/46 [==============================] - 0s 3ms/step - loss: 36.0827\n",
      "Epoch 346/500\n",
      "46/46 [==============================] - 0s 4ms/step - loss: 35.2261\n",
      "Epoch 347/500\n",
      "46/46 [==============================] - 0s 3ms/step - loss: 34.4413\n",
      "Epoch 348/500\n",
      "46/46 [==============================] - 0s 3ms/step - loss: 33.4757\n",
      "Epoch 349/500\n",
      "46/46 [==============================] - 0s 3ms/step - loss: 32.6968\n",
      "Epoch 350/500\n",
      "46/46 [==============================] - 0s 3ms/step - loss: 31.9076\n",
      "Epoch 351/500\n",
      "46/46 [==============================] - 0s 3ms/step - loss: 31.2611\n",
      "Epoch 352/500\n",
      "46/46 [==============================] - 0s 3ms/step - loss: 30.5911\n",
      "Epoch 353/500\n",
      "46/46 [==============================] - 0s 3ms/step - loss: 29.8446\n",
      "Epoch 354/500\n",
      "46/46 [==============================] - 0s 4ms/step - loss: 29.0416\n",
      "Epoch 355/500\n",
      "46/46 [==============================] - 0s 3ms/step - loss: 28.4797\n",
      "Epoch 356/500\n",
      "46/46 [==============================] - 0s 3ms/step - loss: 27.7607\n",
      "Epoch 357/500\n",
      "46/46 [==============================] - 0s 3ms/step - loss: 27.3315\n",
      "Epoch 358/500\n",
      "46/46 [==============================] - 0s 4ms/step - loss: 26.6077\n",
      "Epoch 359/500\n",
      "46/46 [==============================] - 0s 3ms/step - loss: 26.1108\n",
      "Epoch 360/500\n",
      "46/46 [==============================] - 0s 3ms/step - loss: 25.6653\n",
      "Epoch 361/500\n",
      "46/46 [==============================] - 0s 4ms/step - loss: 25.0885\n",
      "Epoch 362/500\n",
      "46/46 [==============================] - 0s 3ms/step - loss: 24.5372\n",
      "Epoch 363/500\n",
      "46/46 [==============================] - 0s 3ms/step - loss: 24.1389\n",
      "Epoch 364/500\n",
      "46/46 [==============================] - 0s 4ms/step - loss: 23.7285\n",
      "Epoch 365/500\n",
      "46/46 [==============================] - 0s 3ms/step - loss: 23.1703\n",
      "Epoch 366/500\n",
      "46/46 [==============================] - 0s 3ms/step - loss: 22.9963\n",
      "Epoch 367/500\n",
      "46/46 [==============================] - 0s 3ms/step - loss: 22.5230\n",
      "Epoch 368/500\n",
      "46/46 [==============================] - 0s 3ms/step - loss: 22.1480\n",
      "Epoch 369/500\n",
      "46/46 [==============================] - 0s 3ms/step - loss: 21.8101\n",
      "Epoch 370/500\n",
      "46/46 [==============================] - 0s 3ms/step - loss: 21.4606\n",
      "Epoch 371/500\n",
      "46/46 [==============================] - 0s 3ms/step - loss: 21.1442\n",
      "Epoch 372/500\n",
      "46/46 [==============================] - 0s 3ms/step - loss: 20.7992\n",
      "Epoch 373/500\n",
      "46/46 [==============================] - 0s 3ms/step - loss: 20.5826\n",
      "Epoch 374/500\n",
      "46/46 [==============================] - 0s 4ms/step - loss: 20.2519\n",
      "Epoch 375/500\n",
      "46/46 [==============================] - 0s 3ms/step - loss: 20.1050\n",
      "Epoch 376/500\n",
      "46/46 [==============================] - 0s 3ms/step - loss: 19.7559\n",
      "Epoch 377/500\n",
      "46/46 [==============================] - 0s 3ms/step - loss: 19.5325\n",
      "Epoch 378/500\n",
      "46/46 [==============================] - 0s 3ms/step - loss: 19.3469\n",
      "Epoch 379/500\n",
      "46/46 [==============================] - 0s 3ms/step - loss: 19.0801\n",
      "Epoch 380/500\n",
      "46/46 [==============================] - 0s 4ms/step - loss: 19.1069\n",
      "Epoch 381/500\n",
      "46/46 [==============================] - 0s 3ms/step - loss: 18.7578\n",
      "Epoch 382/500\n",
      "46/46 [==============================] - 0s 3ms/step - loss: 18.6283\n",
      "Epoch 383/500\n",
      "46/46 [==============================] - 0s 3ms/step - loss: 18.4364\n",
      "Epoch 384/500\n",
      "46/46 [==============================] - 0s 3ms/step - loss: 18.4956\n",
      "Epoch 385/500\n",
      "46/46 [==============================] - 0s 4ms/step - loss: 18.4499\n",
      "Epoch 386/500\n",
      "46/46 [==============================] - 0s 3ms/step - loss: 18.4227\n",
      "Epoch 387/500\n",
      "46/46 [==============================] - 0s 3ms/step - loss: 18.0991\n",
      "Epoch 388/500\n",
      "46/46 [==============================] - 0s 3ms/step - loss: 17.8401\n",
      "Epoch 389/500\n",
      "46/46 [==============================] - 0s 3ms/step - loss: 17.8842\n",
      "Epoch 390/500\n",
      "46/46 [==============================] - 0s 3ms/step - loss: 17.5677\n",
      "Epoch 391/500\n",
      "46/46 [==============================] - 0s 4ms/step - loss: 17.5189\n",
      "Epoch 392/500\n",
      "46/46 [==============================] - 0s 3ms/step - loss: 17.4093\n",
      "Epoch 393/500\n",
      "46/46 [==============================] - 0s 3ms/step - loss: 17.5672\n",
      "Epoch 394/500\n",
      "46/46 [==============================] - 0s 3ms/step - loss: 17.3438\n",
      "Epoch 395/500\n",
      "46/46 [==============================] - 0s 3ms/step - loss: 17.2307\n",
      "Epoch 396/500\n",
      "46/46 [==============================] - 0s 3ms/step - loss: 17.3476\n",
      "Epoch 397/500\n",
      "46/46 [==============================] - 0s 4ms/step - loss: 17.5020\n",
      "Epoch 398/500\n",
      "46/46 [==============================] - 0s 3ms/step - loss: 17.1359\n",
      "Epoch 399/500\n",
      "46/46 [==============================] - 0s 2ms/step - loss: 17.0727\n",
      "Epoch 400/500\n",
      "46/46 [==============================] - 0s 3ms/step - loss: 17.0607\n",
      "Epoch 401/500\n",
      "46/46 [==============================] - 0s 3ms/step - loss: 17.1291\n",
      "Epoch 402/500\n",
      "46/46 [==============================] - 0s 3ms/step - loss: 17.0634\n",
      "Epoch 403/500\n",
      "46/46 [==============================] - 0s 3ms/step - loss: 16.9284\n",
      "Epoch 404/500\n",
      "46/46 [==============================] - 0s 3ms/step - loss: 16.9019\n",
      "Epoch 405/500\n",
      "46/46 [==============================] - 0s 3ms/step - loss: 16.8645\n",
      "Epoch 406/500\n",
      "46/46 [==============================] - 0s 3ms/step - loss: 16.9192\n",
      "Epoch 407/500\n",
      "46/46 [==============================] - 0s 3ms/step - loss: 16.8616\n",
      "Epoch 408/500\n",
      "46/46 [==============================] - 0s 3ms/step - loss: 17.3085\n",
      "Epoch 409/500\n",
      "46/46 [==============================] - 0s 3ms/step - loss: 16.7975\n",
      "Epoch 410/500\n",
      "46/46 [==============================] - 0s 3ms/step - loss: 16.7527\n",
      "Epoch 411/500\n",
      "46/46 [==============================] - 0s 4ms/step - loss: 16.7461\n",
      "Epoch 412/500\n",
      "46/46 [==============================] - 0s 3ms/step - loss: 17.0150\n",
      "Epoch 413/500\n",
      "46/46 [==============================] - 0s 3ms/step - loss: 16.7859\n",
      "Epoch 414/500\n",
      "46/46 [==============================] - 0s 4ms/step - loss: 16.8216\n",
      "Epoch 415/500\n",
      "46/46 [==============================] - 0s 3ms/step - loss: 16.9020\n",
      "Epoch 416/500\n",
      "46/46 [==============================] - 0s 3ms/step - loss: 16.7240\n",
      "Epoch 417/500\n",
      "46/46 [==============================] - 0s 3ms/step - loss: 16.6789\n",
      "Epoch 418/500\n",
      "46/46 [==============================] - 0s 4ms/step - loss: 16.7367\n",
      "Epoch 419/500\n",
      "46/46 [==============================] - 0s 3ms/step - loss: 16.6741\n",
      "Epoch 420/500\n",
      "46/46 [==============================] - 0s 3ms/step - loss: 16.8353\n",
      "Epoch 421/500\n",
      "46/46 [==============================] - 0s 3ms/step - loss: 16.8053\n",
      "Epoch 422/500\n",
      "46/46 [==============================] - 0s 3ms/step - loss: 16.7398\n",
      "Epoch 423/500\n",
      "46/46 [==============================] - 0s 3ms/step - loss: 16.6709\n",
      "Epoch 424/500\n",
      "46/46 [==============================] - 0s 3ms/step - loss: 16.7808\n",
      "Epoch 425/500\n",
      "46/46 [==============================] - 0s 3ms/step - loss: 16.7714: 0s - loss: 17.\n",
      "Epoch 426/500\n",
      "46/46 [==============================] - 0s 3ms/step - loss: 16.6813\n",
      "Epoch 427/500\n",
      "46/46 [==============================] - 0s 3ms/step - loss: 16.6354\n",
      "Epoch 428/500\n",
      "46/46 [==============================] - 0s 3ms/step - loss: 16.6660\n",
      "Epoch 429/500\n",
      "46/46 [==============================] - 0s 2ms/step - loss: 16.6886\n",
      "Epoch 430/500\n",
      "46/46 [==============================] - 0s 3ms/step - loss: 16.7617\n",
      "Epoch 431/500\n",
      "46/46 [==============================] - 0s 3ms/step - loss: 16.6744\n",
      "Epoch 432/500\n",
      "46/46 [==============================] - 0s 3ms/step - loss: 16.6768\n",
      "Epoch 433/500\n",
      "46/46 [==============================] - 0s 3ms/step - loss: 16.6519\n",
      "Epoch 434/500\n",
      "46/46 [==============================] - 0s 3ms/step - loss: 16.7186\n",
      "Epoch 435/500\n",
      "46/46 [==============================] - 0s 3ms/step - loss: 16.7650\n",
      "Epoch 436/500\n",
      "46/46 [==============================] - 0s 2ms/step - loss: 16.7276\n",
      "Epoch 437/500\n",
      "46/46 [==============================] - 0s 3ms/step - loss: 16.6695\n",
      "Epoch 438/500\n",
      "46/46 [==============================] - 0s 3ms/step - loss: 16.7712\n",
      "Epoch 439/500\n",
      "46/46 [==============================] - 0s 3ms/step - loss: 16.7942\n",
      "Epoch 440/500\n",
      "46/46 [==============================] - 0s 3ms/step - loss: 16.5824\n",
      "Epoch 441/500\n",
      "46/46 [==============================] - 0s 3ms/step - loss: 16.6696\n",
      "Epoch 442/500\n",
      "46/46 [==============================] - 0s 3ms/step - loss: 16.6847\n",
      "Epoch 443/500\n",
      "46/46 [==============================] - 0s 3ms/step - loss: 16.7176\n",
      "Epoch 444/500\n",
      "46/46 [==============================] - 0s 3ms/step - loss: 16.6923\n",
      "Epoch 445/500\n",
      "46/46 [==============================] - 0s 3ms/step - loss: 16.6771\n",
      "Epoch 446/500\n",
      "46/46 [==============================] - 0s 2ms/step - loss: 16.6605\n",
      "Epoch 447/500\n",
      "46/46 [==============================] - 0s 3ms/step - loss: 16.6264\n",
      "Epoch 448/500\n",
      "46/46 [==============================] - 0s 3ms/step - loss: 16.6767\n",
      "Epoch 449/500\n",
      "46/46 [==============================] - 0s 2ms/step - loss: 16.6107\n",
      "Epoch 450/500\n",
      "46/46 [==============================] - 0s 3ms/step - loss: 16.7028\n",
      "Epoch 451/500\n",
      "46/46 [==============================] - 0s 3ms/step - loss: 16.6472\n",
      "Epoch 452/500\n",
      "46/46 [==============================] - 0s 4ms/step - loss: 16.6122\n",
      "Epoch 453/500\n",
      "46/46 [==============================] - 0s 3ms/step - loss: 16.6880\n",
      "Epoch 454/500\n",
      "46/46 [==============================] - 0s 3ms/step - loss: 16.8704\n",
      "Epoch 455/500\n",
      "46/46 [==============================] - 0s 3ms/step - loss: 16.6541\n",
      "Epoch 456/500\n",
      "46/46 [==============================] - 0s 3ms/step - loss: 16.6794\n",
      "Epoch 457/500\n",
      "46/46 [==============================] - 0s 3ms/step - loss: 16.7054\n",
      "Epoch 458/500\n",
      "46/46 [==============================] - 0s 3ms/step - loss: 16.7461\n",
      "Epoch 459/500\n",
      "46/46 [==============================] - 0s 3ms/step - loss: 16.6718\n",
      "Epoch 460/500\n",
      "46/46 [==============================] - 0s 3ms/step - loss: 16.6889\n",
      "Epoch 461/500\n",
      "46/46 [==============================] - 0s 3ms/step - loss: 16.6443\n",
      "Epoch 462/500\n",
      "46/46 [==============================] - 0s 3ms/step - loss: 16.8259: 0s - loss: 20.\n",
      "Epoch 463/500\n",
      "46/46 [==============================] - 0s 3ms/step - loss: 16.7041\n",
      "Epoch 464/500\n",
      "46/46 [==============================] - 0s 3ms/step - loss: 16.6598\n",
      "Epoch 465/500\n",
      "46/46 [==============================] - 0s 3ms/step - loss: 16.7007\n",
      "Epoch 466/500\n",
      "46/46 [==============================] - 0s 3ms/step - loss: 16.6986\n",
      "Epoch 467/500\n",
      "46/46 [==============================] - 0s 3ms/step - loss: 16.8284\n",
      "Epoch 468/500\n",
      "46/46 [==============================] - 0s 3ms/step - loss: 16.7092\n",
      "Epoch 469/500\n",
      "46/46 [==============================] - 0s 2ms/step - loss: 16.6649\n",
      "Epoch 470/500\n",
      "46/46 [==============================] - 0s 3ms/step - loss: 16.6260\n",
      "Epoch 471/500\n",
      "46/46 [==============================] - 0s 3ms/step - loss: 16.6292\n",
      "Epoch 472/500\n",
      "46/46 [==============================] - 0s 3ms/step - loss: 16.6932\n",
      "Epoch 473/500\n",
      "46/46 [==============================] - 0s 3ms/step - loss: 16.6912\n",
      "Epoch 474/500\n",
      "46/46 [==============================] - 0s 3ms/step - loss: 16.8560\n",
      "Epoch 475/500\n",
      "46/46 [==============================] - 0s 5ms/step - loss: 16.6209\n",
      "Epoch 476/500\n",
      "46/46 [==============================] - 0s 5ms/step - loss: 16.6681\n",
      "Epoch 477/500\n",
      "46/46 [==============================] - 0s 3ms/step - loss: 16.7167\n",
      "Epoch 478/500\n",
      "46/46 [==============================] - 0s 4ms/step - loss: 16.6909\n",
      "Epoch 479/500\n",
      "46/46 [==============================] - 0s 3ms/step - loss: 16.5908\n",
      "Epoch 480/500\n",
      "46/46 [==============================] - 0s 4ms/step - loss: 16.7880\n",
      "Epoch 481/500\n",
      "46/46 [==============================] - 0s 4ms/step - loss: 16.7238\n",
      "Epoch 482/500\n",
      "46/46 [==============================] - 0s 3ms/step - loss: 16.6398\n",
      "Epoch 483/500\n",
      "46/46 [==============================] - 0s 4ms/step - loss: 16.8744\n",
      "Epoch 484/500\n",
      "46/46 [==============================] - 0s 3ms/step - loss: 16.7285\n",
      "Epoch 485/500\n",
      "46/46 [==============================] - 0s 3ms/step - loss: 16.7673\n",
      "Epoch 486/500\n",
      "46/46 [==============================] - 0s 3ms/step - loss: 16.5937\n",
      "Epoch 487/500\n",
      "46/46 [==============================] - 0s 3ms/step - loss: 16.7038\n",
      "Epoch 488/500\n",
      "46/46 [==============================] - 0s 3ms/step - loss: 16.6492\n",
      "Epoch 489/500\n",
      "46/46 [==============================] - 0s 3ms/step - loss: 17.1417\n",
      "Epoch 490/500\n",
      "46/46 [==============================] - 0s 3ms/step - loss: 16.9235\n",
      "Epoch 491/500\n",
      "46/46 [==============================] - 0s 3ms/step - loss: 16.5698\n",
      "Epoch 492/500\n",
      "46/46 [==============================] - 0s 3ms/step - loss: 16.6145\n",
      "Epoch 493/500\n",
      "46/46 [==============================] - 0s 3ms/step - loss: 16.7028\n",
      "Epoch 494/500\n",
      "46/46 [==============================] - 0s 3ms/step - loss: 16.6285\n",
      "Epoch 495/500\n",
      "46/46 [==============================] - 0s 3ms/step - loss: 16.6818\n",
      "Epoch 496/500\n",
      "46/46 [==============================] - 0s 3ms/step - loss: 16.8448\n",
      "Epoch 497/500\n",
      "46/46 [==============================] - 0s 3ms/step - loss: 16.6194\n",
      "Epoch 498/500\n",
      "46/46 [==============================] - 0s 3ms/step - loss: 16.5982\n",
      "Epoch 499/500\n",
      "46/46 [==============================] - 0s 3ms/step - loss: 16.6040\n",
      "Epoch 500/500\n",
      "46/46 [==============================] - 0s 3ms/step - loss: 16.7193\n"
     ]
    },
    {
     "data": {
      "text/plain": [
       "<tensorflow.python.keras.callbacks.History at 0x7f4909257a10>"
      ]
     },
     "execution_count": 91,
     "metadata": {},
     "output_type": "execute_result"
    }
   ],
   "source": [
    "# Fit the model with 500 epochs in batches of 10\n",
    "model.fit(x, y, epochs=500, batch_size=10)"
   ]
  },
  {
   "cell_type": "markdown",
   "metadata": {},
   "source": [
    "Plot of the actual data and the predicted data."
   ]
  },
  {
   "cell_type": "code",
   "execution_count": 93,
   "metadata": {},
   "outputs": [
    {
     "data": {
      "image/png": "[encoded data removed]",
      "text/plain": [
       "<Figure size 432x288 with 1 Axes>"
      ]
     },
     "metadata": {
      "needs_background": "light"
     },
     "output_type": "display_data"
    }
   ],
   "source": [
    "plt.plot(x, y,'k.', label='actual')\n",
    "plt.plot(x, model.predict(x), label='prediction')\n",
    "plt.legend();"
   ]
  },
  {
   "cell_type": "code",
   "execution_count": 34,
   "metadata": {},
   "outputs": [
    {
     "name": "stdout",
     "output_type": "stream",
     "text": [
      "Model: \"sequential\"\n",
      "_________________________________________________________________\n",
      "Layer (type)                 Output Shape              Param #   \n",
      "=================================================================\n",
      "dense (Dense)                (None, 10)                20        \n",
      "_________________________________________________________________\n",
      "dense_1 (Dense)              (None, 1)                 11        \n",
      "=================================================================\n",
      "Total params: 31\n",
      "Trainable params: 31\n",
      "Non-trainable params: 0\n",
      "_________________________________________________________________\n"
     ]
    }
   ],
   "source": [
    "model.summary()"
   ]
  },
  {
   "cell_type": "markdown",
   "metadata": {},
   "source": [
    "A quick prediction."
   ]
  },
  {
   "cell_type": "code",
   "execution_count": 95,
   "metadata": {},
   "outputs": [
    {
     "data": {
      "text/plain": [
       "array([[77.626785]], dtype=float32)"
      ]
     },
     "execution_count": 95,
     "metadata": {},
     "output_type": "execute_result"
    }
   ],
   "source": [
    "model.predict(np.array([15]))"
   ]
  },
  {
   "cell_type": "markdown",
   "metadata": {},
   "source": [
    "Get the loss value (Meas Squared Loss). [[3]](#References)"
   ]
  },
  {
   "cell_type": "code",
   "execution_count": 97,
   "metadata": {},
   "outputs": [
    {
     "name": "stdout",
     "output_type": "stream",
     "text": [
      "15/15 [==============================] - 0s 2ms/step - loss: 16.5615\n",
      "Mean Squared Loss is 16.561542510986328.\n"
     ]
    }
   ],
   "source": [
    "mean_sq_loss = model.evaluate(x, y)\n",
    "print(f\"Mean Squared Loss is {mean_sq_loss}.\")"
   ]
  },
  {
   "cell_type": "markdown",
   "metadata": {},
   "source": [
    "***\n",
    "The model is saved in a h5 file format. The model can then be loaded in the flask web application as opposed to running the fit again."
   ]
  },
  {
   "cell_type": "code",
   "execution_count": 98,
   "metadata": {},
   "outputs": [],
   "source": [
    "model.save_weights(\"wind_power_weights.h5\")\n",
    "model.save('wind_power.h5')"
   ]
  },
  {
   "cell_type": "markdown",
   "metadata": {},
   "source": [
    "Load the model from the h5 file to make sure it is correct."
   ]
  },
  {
   "cell_type": "code",
   "execution_count": 99,
   "metadata": {},
   "outputs": [],
   "source": [
    "from tensorflow.keras.models import load_model\n",
    "new_model = load_model('wind_power.h5')"
   ]
  },
  {
   "cell_type": "code",
   "execution_count": 100,
   "metadata": {},
   "outputs": [
    {
     "name": "stdout",
     "output_type": "stream",
     "text": [
      "Model: \"sequential_2\"\n",
      "_________________________________________________________________\n",
      "Layer (type)                 Output Shape              Param #   \n",
      "=================================================================\n",
      "dense_4 (Dense)              (None, 10)                20        \n",
      "_________________________________________________________________\n",
      "dense_5 (Dense)              (None, 1)                 11        \n",
      "=================================================================\n",
      "Total params: 31\n",
      "Trainable params: 31\n",
      "Non-trainable params: 0\n",
      "_________________________________________________________________\n"
     ]
    }
   ],
   "source": [
    "new_model.summary()"
   ]
  },
  {
   "cell_type": "code",
   "execution_count": 103,
   "metadata": {},
   "outputs": [
    {
     "name": "stdout",
     "output_type": "stream",
     "text": [
      "15/15 [==============================] - 0s 2ms/step - loss: 16.5615\n",
      "Mean Squared Loss is 16.561542510986328.\n"
     ]
    },
    {
     "data": {
      "text/plain": [
       "True"
      ]
     },
     "execution_count": 103,
     "metadata": {},
     "output_type": "execute_result"
    }
   ],
   "source": [
    "score = new_model.evaluate(x, y,)\n",
    "print(f\"Mean Squared Loss is {score}.\")\n",
    "score == mean_sq_loss"
   ]
  },
  {
   "cell_type": "code",
   "execution_count": 104,
   "metadata": {},
   "outputs": [
    {
     "data": {
      "text/plain": [
       "array([[77.626785]], dtype=float32)"
      ]
     },
     "execution_count": 104,
     "metadata": {},
     "output_type": "execute_result"
    }
   ],
   "source": [
    "new_model.predict([15])"
   ]
  },
  {
   "cell_type": "markdown",
   "metadata": {},
   "source": [
    "## Summary\n",
    "\n",
    "The dataset was loaded and explored. It was concluded that there were outliers in the data and these were removed. The dataset was modelled with linear and polynomial fits and finally with a tensorflow neural network.\n",
    "\n",
    "As is visible in the plots above , the neural network has provided the best fit and the linear regression the worst fit.\n",
    "\n",
    "While the polynomial fit closely resembles the dataset, there are aspects of the fit that are not good. The lower half for example has clear gaps between the data and the fit.\n",
    "\n",
    "Clearly the neural network has visually the best fit, but more importantly this is borne out in the loss for the fit. The mean squared loss for the neural network is 16.56 as compared to 35.5 for the polyfit.\n",
    "\n",
    "This is why I have chosen the neural network for the web application."
   ]
  },
  {
   "cell_type": "markdown",
   "metadata": {},
   "source": [
    "## References\n",
    "\n",
    "[1] [Numpy Polyfit documentation](https://numpy.org/doc/stable/reference/generated/numpy.polyfit.html), accessed online, December 2020.\n",
    "\n",
    "[2] [What's the error of numpy.polyfit?](https://stackoverflow.com/questions/15721053/whats-the-error-of-numpy-polyfit), accessed online, December 2020.\n",
    "\n",
    "[3] [TensorFlow, Training and Evalutaion with built in methods](https://www.tensorflow.org/guide/keras/train_and_evaluate), accessed online, December 2020.\n",
    "\n",
    "[4] Brownlee, Jason. [How to Configure the Number of Layers and Nodes in a Neural Network](https://machinelearningmastery.com/how-to-configure-the-number-of-layers-and-nodes-in-a-neural-network/) , accessed online, December 2020.\n",
    "\n",
    "[5] Brownlee, Jason. [How to Choose Loss Functions When Training Deep Learning Neural Networks](https://machinelearningmastery.com/how-to-choose-loss-functions-when-training-deep-learning-neural-networks/) , accessed online, December 2020.\n",
    "\n",
    "[6] Brownlee, Jason. [Your First Deep Learning Project in Python with Keras Step-By-Step](https://machinelearningmastery.com/tutorial-first-neural-network-python-keras/) , accessed online, December 2020.\n",
    "\n",
    "[7] Brownlee, Jason. [How to Save and Load Your Keras Deep Learning Model](https://machinelearningmastery.com/save-load-keras-deep-learning-models/) , accessed online, December 2020.\n",
    "\n",
    "[8] [Save and load Keras models](https://www.tensorflow.org/guide/keras/save_and_serialize#weights_only_saving_in_savedmodel_format), accessed online, December 2020.\n",
    "\n",
    "[9] [How to improve performance of Neural Networks](https://d4datascience.wordpress.com/2016/09/29/fbf/) , accessed online, December 2020.\n",
    "\n",
    "[10] [Improving the Performance of a Neural Network](https://towardsdatascience.com/how-to-increase-the-accuracy-of-a-neural-network-9f5d1c6f407d) , accessed online, December 2020.\n"
   ]
  },
  {
   "cell_type": "code",
   "execution_count": null,
   "metadata": {},
   "outputs": [],
   "source": []
  }
 ],
 "metadata": {
  "kernelspec": {
   "display_name": "Python 3",
   "language": "python",
   "name": "python3"
  },
  "language_info": {
   "codemirror_mode": {
    "name": "ipython",
    "version": 3
   },
   "file_extension": ".py",
   "mimetype": "text/x-python",
   "name": "python",
   "nbconvert_exporter": "python",
   "pygments_lexer": "ipython3",
   "version": "3.7.9"
  }
 },
 "nbformat": 4,
 "nbformat_minor": 4
}
